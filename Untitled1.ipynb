{
  "nbformat": 4,
  "nbformat_minor": 0,
  "metadata": {
    "colab": {
      "provenance": [],
      "mount_file_id": "1CZFW5jpQVyraME7lzTbec4OpuWTF6b45",
      "authorship_tag": "ABX9TyMbgObxxr1Hr7m4kP5kRpfm",
      "include_colab_link": true
    },
    "kernelspec": {
      "name": "python3",
      "display_name": "Python 3"
    },
    "language_info": {
      "name": "python"
    }
  },
  "cells": [
    {
      "cell_type": "markdown",
      "metadata": {
        "id": "view-in-github",
        "colab_type": "text"
      },
      "source": [
        "<a href=\"https://colab.research.google.com/github/arulclara/Step-23/blob/master/Untitled1.ipynb\" target=\"_parent\"><img src=\"https://colab.research.google.com/assets/colab-badge.svg\" alt=\"Open In Colab\"/></a>"
      ]
    },
    {
      "cell_type": "code",
      "execution_count": null,
      "metadata": {
        "id": "OopsSwhBfokP"
      },
      "outputs": [],
      "source": [
        "import sys\n",
        "path_to_module = '/content/drive/MyDrive/task_mlp_on_mnist.py'\n",
        "sys.path.append(path_to_module)"
      ]
    },
    {
      "cell_type": "code",
      "source": [
        "#Importing libraries\n",
        "from keras.datasets import mnist\n",
        "from keras.utils import np_utils\n",
        "from keras.models import Sequential\n",
        "from keras.layers import Dense, Activation\n",
        "from keras.optimizers import Adam\n",
        "\n",
        "import matplotlib.pyplot as plt\n",
        "%matplotlib inline\n",
        "import numpy as np\n",
        "\n",
        "# Load the MNIST dataset\n",
        "(X_train, y_train), (X_test, y_test) = mnist.load_data()\n",
        "\n",
        "# Reshape the input data\n",
        "X_train = X_train.reshape(X_train.shape[0], X_train.shape[1]*X_train.shape[2])\n",
        "X_test = X_test.reshape(X_test.shape[0], X_test.shape[1]*X_test.shape[2])\n",
        "\n",
        "# Normalize the input data\n",
        "X_train = X_train/255\n",
        "X_test = X_test/255\n",
        "\n",
        "# Convert class labels to one-hot encoded vectors\n",
        "Y_train = np_utils.to_categorical(y_train)\n",
        "Y_test = np_utils.to_categorical(y_test)\n",
        "\n",
        "# Define the model\n",
        "model = Sequential()\n",
        "model.add(Dense(64, input_shape=(784,), activation='sigmoid'))  # Hidden layer with 64 neurons and Sigmoid activation\n",
        "model.add(Dense(10, activation='softmax'))  # Output layer with 10 neurons for 0-9 digits and Softmax activation\n",
        "\n",
        "# Compile the model\n",
        "from keras.datasets import mnist\n",
        "from keras.utils import np_utils\n",
        "from keras.models import Sequential\n",
        "from keras.layers import Dense, Activation\n",
        "from keras.optimizers import Adam\n",
        "\n",
        "import matplotlib.pyplot as plt\n",
        "%matplotlib inline\n",
        "import numpy as np\n",
        "\n",
        "# Load the MNIST dataset\n",
        "(X_train, y_train), (X_test, y_test) = mnist.load_data()\n",
        "\n",
        "# Reshape the input data\n",
        "X_train = X_train.reshape(X_train.shape[0], X_train.shape[1]*X_train.shape[2])\n",
        "X_test = X_test.reshape(X_test.shape[0], X_test.shape[1]*X_test.shape[2])\n",
        "\n",
        "# Normalize the input data\n",
        "X_train = X_train/255\n",
        "X_test = X_test/255\n",
        "\n",
        "# Convert class labels to one-h\n",
        "# Convert class labels to one-hot encoded vectors\n",
        "Y_train = np_utils.to_categorical(y_train)\n",
        "Y_test = np_utils.to_categorical(y_test)\n",
        "\n",
        "# Define the model\n",
        "model = Sequential()\n",
        "model.add(Dense(64, input_shape=(784,), activation='relu'))  # Hidden layer with 64 neurons and ReLU activation\n",
        "model.add(Dense(10, activation='softmax'))  # Output layer with 10 neurons for 0-9 digits and Softmax activation\n",
        "\n",
        "# Compile the model\n",
        "optimizer = Adam()  # ADAM optimizer\n",
        "model.compile(optimizer=optimizer, loss='categorical_crossentropy', metrics=['accuracy'])\n",
        "\n",
        "# Train the model\n",
        "history = model.fit(X_train, Y_train, batch_size=128, epochs=10, verbose=1, validation_data=(X_test, Y_test))\n",
        "\n",
        "# Evaluate the model\n",
        "score = model.evaluate(X_test, Y_test, verbose=0)\n",
        "print('Test score:', score[0])\n",
        "print('Test accuracy:', score[1])\n",
        "\n",
        "# Visualize a sample image and its prediction\n",
        "image_index = 120\n",
        "plt.imshow(X_test[image_index].reshape(28, 28), cmap='Greys')\n",
        "pred = model.predict(X_test)\n",
        "print(pred[image_index])\n",
        "print(np.argmax(pred[image_index]))"
      ],
      "metadata": {
        "id": "tSVehYnAgT8s",
        "colab": {
          "base_uri": "https://localhost:8080/",
          "height": 916
        },
        "outputId": "07654b2e-cb07-45d7-a9e4-b8f0a3390545"
      },
      "execution_count": null,
      "outputs": [
        {
          "output_type": "stream",
          "name": "stdout",
          "text": [
            "Downloading data from https://storage.googleapis.com/tensorflow/tf-keras-datasets/mnist.npz\n",
            "11490434/11490434 [==============================] - 0s 0us/step\n",
            "Epoch 1/10\n",
            "469/469 [==============================] - 2s 4ms/step - loss: 0.4157 - accuracy: 0.8861 - val_loss: 0.2372 - val_accuracy: 0.9293\n",
            "Epoch 2/10\n",
            "469/469 [==============================] - 2s 3ms/step - loss: 0.1970 - accuracy: 0.9439 - val_loss: 0.1665 - val_accuracy: 0.9505\n",
            "Epoch 3/10\n",
            "469/469 [==============================] - 2s 3ms/step - loss: 0.1500 - accuracy: 0.9572 - val_loss: 0.1392 - val_accuracy: 0.9581\n",
            "Epoch 4/10\n",
            "469/469 [==============================] - 2s 3ms/step - loss: 0.1243 - accuracy: 0.9645 - val_loss: 0.1231 - val_accuracy: 0.9631\n",
            "Epoch 5/10\n",
            "469/469 [==============================] - 2s 3ms/step - loss: 0.1053 - accuracy: 0.9697 - val_loss: 0.1128 - val_accuracy: 0.9648\n",
            "Epoch 6/10\n",
            "469/469 [==============================] - 3s 6ms/step - loss: 0.0909 - accuracy: 0.9735 - val_loss: 0.1044 - val_accuracy: 0.9673\n",
            "Epoch 7/10\n",
            "469/469 [==============================] - 2s 5ms/step - loss: 0.0814 - accuracy: 0.9761 - val_loss: 0.1011 - val_accuracy: 0.9692\n",
            "Epoch 8/10\n",
            "469/469 [==============================] - 2s 3ms/step - loss: 0.0727 - accuracy: 0.9786 - val_loss: 0.0931 - val_accuracy: 0.9717\n",
            "Epoch 9/10\n",
            "469/469 [==============================] - 2s 3ms/step - loss: 0.0641 - accuracy: 0.9815 - val_loss: 0.0922 - val_accuracy: 0.9717\n",
            "Epoch 10/10\n",
            "469/469 [==============================] - 2s 3ms/step - loss: 0.0588 - accuracy: 0.9828 - val_loss: 0.0902 - val_accuracy: 0.9718\n",
            "Test score: 0.09015093743801117\n",
            "Test accuracy: 0.9718000292778015\n",
            "313/313 [==============================] - 1s 1ms/step\n",
            "[3.4377466e-12 2.6837148e-09 7.4452605e-10 2.7815899e-04 1.1528370e-12\n",
            " 9.9971116e-01 6.3282955e-11 2.4875341e-12 9.4790386e-07 9.8030150e-06]\n",
            "5\n"
          ]
        },
        {
          "output_type": "display_data",
          "data": {
            "text/plain": [
              "<Figure size 640x480 with 1 Axes>"
            ],
            "image/png": "[encoded data removed]"
          },
          "metadata": {}
        }
      ]
    },
    {
      "cell_type": "code",
      "source": [
        "from keras.datasets import mnist\n",
        "from keras.utils import np_utils\n",
        "from keras.models import Sequential\n",
        "from keras.layers import Dense, Activation\n",
        "from keras.optimizers import Adam\n",
        "\n",
        "import matplotlib.pyplot as plt\n",
        "%matplotlib inline\n",
        "import numpy as np\n",
        "\n",
        "# Load the MNIST dataset\n",
        "(X_train, y_train), (X_test, y_test) = mnist.load_data()\n",
        "\n",
        "# Reshape the input data\n",
        "X_train = X_train.reshape(X_train.shape[0], X_train.shape[1]*X_train.shape[2])\n",
        "X_test = X_test.reshape(X_test.shape[0], X_test.shape[1]*X_test.shape[2])\n",
        "\n",
        "# Normalize the input data\n",
        "X_train = X_train/255\n",
        "X_test = X_test/255\n",
        "\n",
        "# Convert class labels to one-h\n",
        "# Convert class labels to one-hot encoded vectors\n",
        "Y_train = np_utils.to_categorical(y_train)\n",
        "Y_test = np_utils.to_categorical(y_test)\n",
        "\n",
        "# Define the model\n",
        "model = Sequential()\n",
        "model.add(Dense(64, input_shape=(784,), activation='relu'))  # Hidden layer with 64 neurons and ReLU activation\n",
        "model.add(Dense(10, activation='softmax'))  # Output layer with 10 neurons for 0-9 digits and Softmax activation\n",
        "\n",
        "# Compile the model\n",
        "optimizer = Adam()  # ADAM optimizer\n",
        "model.compile(optimizer=optimizer, loss='categorical_crossentropy', metrics=['accuracy'])\n",
        "\n",
        "# Train the model\n",
        "history = model.fit(X_train, Y_train, batch_size=128, epochs=10, verbose=1, validation_data=(X_test, Y_test))\n",
        "\n",
        "# Evaluate the model\n",
        "score = model.evaluate(X_test, Y_test, verbose=0)\n",
        "print('Test score:', score[0])\n",
        "print('Test accuracy:', score[1])\n",
        "\n",
        "# Visualize a sample image and its prediction\n",
        "image_index = 120\n",
        "plt.imshow(X_test[image_index].reshape(28, 28), cmap='Greys')\n",
        "pred = model.predict(X_test)\n",
        "print(pred[image_index])\n",
        "print(np.argmax(pred[image_index]))"
      ],
      "metadata": {
        "id": "0IAewFRagT2k",
        "colab": {
          "base_uri": "https://localhost:8080/",
          "height": 881
        },
        "outputId": "a0368b4c-094b-4f2e-f873-7a4b58e4c1d5"
      },
      "execution_count": null,
      "outputs": [
        {
          "output_type": "stream",
          "name": "stdout",
          "text": [
            "Epoch 1/10\n",
            "469/469 [==============================] - 2s 4ms/step - loss: 0.4164 - accuracy: 0.8852 - val_loss: 0.2303 - val_accuracy: 0.9337\n",
            "Epoch 2/10\n",
            "469/469 [==============================] - 2s 3ms/step - loss: 0.2058 - accuracy: 0.9416 - val_loss: 0.1711 - val_accuracy: 0.9500\n",
            "Epoch 3/10\n",
            "469/469 [==============================] - 2s 3ms/step - loss: 0.1617 - accuracy: 0.9540 - val_loss: 0.1508 - val_accuracy: 0.9561\n",
            "Epoch 4/10\n",
            "469/469 [==============================] - 2s 3ms/step - loss: 0.1344 - accuracy: 0.9610 - val_loss: 0.1277 - val_accuracy: 0.9615\n",
            "Epoch 5/10\n",
            "469/469 [==============================] - 2s 3ms/step - loss: 0.1151 - accuracy: 0.9662 - val_loss: 0.1168 - val_accuracy: 0.9651\n",
            "Epoch 6/10\n",
            "469/469 [==============================] - 2s 5ms/step - loss: 0.0994 - accuracy: 0.9710 - val_loss: 0.1068 - val_accuracy: 0.9674\n",
            "Epoch 7/10\n",
            "469/469 [==============================] - 2s 5ms/step - loss: 0.0865 - accuracy: 0.9749 - val_loss: 0.1064 - val_accuracy: 0.9671\n",
            "Epoch 8/10\n",
            "469/469 [==============================] - 2s 3ms/step - loss: 0.0782 - accuracy: 0.9769 - val_loss: 0.0963 - val_accuracy: 0.9715\n",
            "Epoch 9/10\n",
            "469/469 [==============================] - 2s 3ms/step - loss: 0.0692 - accuracy: 0.9802 - val_loss: 0.0988 - val_accuracy: 0.9706\n",
            "Epoch 10/10\n",
            "469/469 [==============================] - 2s 3ms/step - loss: 0.0623 - accuracy: 0.9818 - val_loss: 0.0926 - val_accuracy: 0.9717\n",
            "Test score: 0.09258285164833069\n",
            "Test accuracy: 0.9717000126838684\n",
            "313/313 [==============================] - 0s 1ms/step\n",
            "[3.0376417e-11 2.7848238e-11 4.7458627e-11 1.5470515e-04 1.0948099e-12\n",
            " 9.9984288e-01 1.5221059e-11 3.7849207e-12 5.7857187e-07 1.8112686e-06]\n",
            "5\n"
          ]
        },
        {
          "output_type": "display_data",
          "data": {
            "text/plain": [
              "<Figure size 640x480 with 1 Axes>"
            ],
            "image/png": "[encoded data removed]"
          },
          "metadata": {}
        }
      ]
    },
    {
      "cell_type": "code",
      "source": [
        "# Importing libraries\n",
        "from keras.datasets import mnist\n",
        "from keras.utils import np_utils\n",
        "from keras.models import Sequential\n",
        "from keras.layers import Dense, Activation, BatchNormalization\n",
        "from keras.optimizers import Adam\n",
        "\n",
        "import matplotlib.pyplot as plt\n",
        "%matplotlib inline\n",
        "import numpy as np\n",
        "\n",
        "# Load the MNIST dataset\n",
        "(X_train, y_train), (X_test, y_test) = mnist.load_data()\n",
        "\n",
        "# Reshape the input data\n",
        "X_train = X_train.reshape(X_train.shape[0], X_train.shape[1]*X_train.shape[2])\n",
        "X_test = X_test.reshape(X_test.shape[0], X_test.shape[1]*X_test.shape[2])\n",
        "\n",
        "# Normalize the input data\n",
        "X_train = X_train/255\n",
        "X_test = X_test/255\n",
        "\n",
        "# Convert class labels to one-hot encoded vectors\n",
        "Y_train = np_utils.to_categorical(y_train)\n",
        "Y_test = np_utils.to_categorical(y_test)\n",
        "\n",
        "# Define the model\n",
        "model = Sequential()\n",
        "model.add(Dense(64, input_shape=(784,)))\n",
        "model.add(BatchNormalization())  # Batch normalization layer\n",
        "model.add(Activation('sigmoid'))  # Sigmoid activation\n",
        "model.add(Dense(10, activation='softmax'))  # Output layer with 10 neurons for 0-9 digits and Softmax activation\n",
        "\n",
        "# Compile the model\n",
        "optimizer = Adam()  # ADAM optimizer\n",
        "model.compile(optimizer=optimizer, loss='categorical_crossentropy', metrics=['accuracy'])\n",
        "\n",
        " # Train the model\n",
        "history = model.fit(X_train, Y_train, batch_size=128, epochs=10, verbose=1, validation_data=(X_test, Y_test))\n",
        "\n",
        "# Evaluate the model\n",
        "score = model.evaluate(X_test, Y_test, verbose=0)\n",
        "print('Test score:', score[0])\n",
        "print('Test accuracy:', score[1])\n",
        "\n",
        "# Visualize a sample image and its prediction\n",
        "image_index = 120\n",
        "plt.imshow(X_test[image_index].reshape(28, 28), cmap='Greys')\n",
        "pred = model.predict(X_test)\n",
        "print(pred[image_index])\n",
        "print(np.argmax(pred[image_index]))"
      ],
      "metadata": {
        "id": "Xq-Yxj8VgTur",
        "colab": {
          "base_uri": "https://localhost:8080/",
          "height": 899
        },
        "outputId": "fab7c8e8-dba2-445d-cbc7-a59b7f2a93ae"
      },
      "execution_count": null,
      "outputs": [
        {
          "output_type": "stream",
          "name": "stdout",
          "text": [
            "Epoch 1/10\n",
            "469/469 [==============================] - 3s 5ms/step - loss: 0.7505 - accuracy: 0.8583 - val_loss: 0.4118 - val_accuracy: 0.9072\n",
            "Epoch 2/10\n",
            "469/469 [==============================] - 3s 6ms/step - loss: 0.3687 - accuracy: 0.9094 - val_loss: 0.3044 - val_accuracy: 0.9199\n",
            "Epoch 3/10\n",
            "469/469 [==============================] - 3s 6ms/step - loss: 0.2946 - accuracy: 0.9206 - val_loss: 0.2672 - val_accuracy: 0.9266\n",
            "Epoch 4/10\n",
            "469/469 [==============================] - 2s 4ms/step - loss: 0.2562 - accuracy: 0.9297 - val_loss: 0.2365 - val_accuracy: 0.9330\n",
            "Epoch 5/10\n",
            "469/469 [==============================] - 2s 4ms/step - loss: 0.2283 - accuracy: 0.9369 - val_loss: 0.2191 - val_accuracy: 0.9363\n",
            "Epoch 6/10\n",
            "469/469 [==============================] - 2s 5ms/step - loss: 0.2044 - accuracy: 0.9434 - val_loss: 0.2048 - val_accuracy: 0.9420\n",
            "Epoch 7/10\n",
            "469/469 [==============================] - 2s 4ms/step - loss: 0.1844 - accuracy: 0.9488 - val_loss: 0.1923 - val_accuracy: 0.9427\n",
            "Epoch 8/10\n",
            "469/469 [==============================] - 2s 5ms/step - loss: 0.1664 - accuracy: 0.9534 - val_loss: 0.1753 - val_accuracy: 0.9493\n",
            "Epoch 9/10\n",
            "469/469 [==============================] - 3s 6ms/step - loss: 0.1518 - accuracy: 0.9574 - val_loss: 0.1675 - val_accuracy: 0.9491\n",
            "Epoch 10/10\n",
            "469/469 [==============================] - 2s 4ms/step - loss: 0.1380 - accuracy: 0.9620 - val_loss: 0.1557 - val_accuracy: 0.9536\n",
            "Test score: 0.1556580513715744\n",
            "Test accuracy: 0.9535999894142151\n",
            "313/313 [==============================] - 1s 1ms/step\n",
            "[1.07532585e-04 1.86865839e-06 6.65759071e-05 6.43680394e-02\n",
            " 5.15113607e-05 9.14673567e-01 1.30487344e-04 2.17678335e-05\n",
            " 2.04953086e-02 8.32573496e-05]\n",
            "5\n"
          ]
        },
        {
          "output_type": "display_data",
          "data": {
            "text/plain": [
              "<Figure size 640x480 with 1 Axes>"
            ],
            "image/png": "[encoded data removed]"
          },
          "metadata": {}
        }
      ]
    },
    {
      "cell_type": "code",
      "source": [
        "from google.colab import drive\n",
        "drive.mount('/content/drive')"
      ],
      "metadata": {
        "id": "3dr-YeZQABC7"
      },
      "execution_count": null,
      "outputs": []
    },
    {
      "cell_type": "code",
      "source": [],
      "metadata": {
        "id": "48GQFwVigTkh"
      },
      "execution_count": null,
      "outputs": []
    },
    {
      "cell_type": "code",
      "source": [],
      "metadata": {
        "id": "1TqoTmtggTfj"
      },
      "execution_count": null,
      "outputs": []
    },
    {
      "cell_type": "code",
      "source": [],
      "metadata": {
        "id": "o0T8lwsHgTa3"
      },
      "execution_count": null,
      "outputs": []
    },
    {
      "cell_type": "code",
      "source": [],
      "metadata": {
        "id": "KKt9E8_rgTWZ"
      },
      "execution_count": null,
      "outputs": []
    },
    {
      "cell_type": "code",
      "source": [],
      "metadata": {
        "id": "GR29pKIEgTE4"
      },
      "execution_count": null,
      "outputs": []
    },
    {
      "cell_type": "code",
      "source": [],
      "metadata": {
        "id": "hGTaYX4WgS-A"
      },
      "execution_count": null,
      "outputs": []
    }
  ]
}